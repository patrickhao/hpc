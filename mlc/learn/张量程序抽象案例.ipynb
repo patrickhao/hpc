{
 "cells": [
  {
   "cell_type": "markdown",
   "id": "8872332a",
   "metadata": {},
   "source": [
    "demo对应的材料\n",
    "+ https://mlc.ai/zh/chapter_tensor_program/case_study.html"
   ]
  },
  {
   "cell_type": "code",
   "execution_count": 1,
   "id": "53d91e46",
   "metadata": {},
   "outputs": [],
   "source": [
    "import numpy as np\n",
    "import tvm\n",
    "from tvm.ir.module import IRModule\n",
    "from tvm.script import tir as T"
   ]
  },
  {
   "cell_type": "markdown",
   "id": "de2966b1",
   "metadata": {},
   "source": [
    "来看一个例子，对于两个大小为128x128的矩阵A和B，进行如下两步张量运算\n",
    "$$\n",
    "Y_{i, j} = \\sum_k A_{i, k} \\times B_{k, j} \\\\\n",
    "C_{i, j} = \\mathbb{relu}(Y_{i, j}) = \\mathbb{max}(Y_{i, j}, 0)\n",
    "$$\n",
    "使用numpy数组中的计算实现这两个操作"
   ]
  },
  {
   "cell_type": "code",
   "execution_count": 3,
   "id": "0d522883",
   "metadata": {},
   "outputs": [],
   "source": [
    "dtype = \"float32\"\n",
    "a_np = np.random.rand(128, 128).astype(dtype)\n",
    "b_np = np.random.rand(128, 128).astype(dtype)\n",
    "# a @ b is equivalent to np.matmul(a, b)\n",
    "c_mm_relu = np.maximum(a_np @ b_np, 0)"
   ]
  },
  {
   "cell_type": "markdown",
   "id": "c31ea21d",
   "metadata": {},
   "source": [
    "下面是实现mm_relu操作的一种方式"
   ]
  },
  {
   "cell_type": "code",
   "execution_count": 4,
   "id": "b3bf1fdf",
   "metadata": {},
   "outputs": [],
   "source": [
    "def lnumpy_mm_relu(A: np.ndarray, B: np.ndarray, C: np.ndarray):\n",
    "    # 使用的缓冲区\n",
    "    Y = np.empty((128, 128), dtype=\"float32\")    \n",
    "    for i in range(128):\n",
    "        for j in range(128):\n",
    "            for k in range(128):\n",
    "                if k == 0:\n",
    "                    Y[i, j] = 0\n",
    "                Y[i, j] = Y[i, j] + A[i, k] * B[k, j]\n",
    "    \n",
    "    for i in range(128):\n",
    "        for j in range(128):\n",
    "            C[i, j] = max(Y[i, j], 0)"
   ]
  },
  {
   "cell_type": "code",
   "execution_count": 5,
   "id": "f9a1d4da",
   "metadata": {},
   "outputs": [],
   "source": [
    "c_np = np.empty((128, 128), dtype=dtype)\n",
    "lnumpy_mm_relu(a_np, b_np, c_np)\n",
    "np.testing.assert_allclose(c_mm_relu, c_np, rtol=1e-5)"
   ]
  },
  {
   "cell_type": "markdown",
   "id": "ad734761",
   "metadata": {},
   "source": [
    "上述函数展示了这些计算的实现中使用的所有可能的元素\n",
    "+ 多维缓冲区\n",
    "+ 在数组维度上的循环\n",
    "+ 在循环下执行的计算语句\n",
    "下面是一种TVMScript的实现，这是一种嵌入在Python AST中的特定领域的方言"
   ]
  },
  {
   "cell_type": "code",
   "execution_count": 10,
   "id": "9b904232",
   "metadata": {},
   "outputs": [],
   "source": [
    "@tvm.script.ir_module\n",
    "class MyMudule:\n",
    "    @T.prim_func\n",
    "    def mm_relu(A: T.Buffer[(128, 128), \"float32\"],\n",
    "                B: T.Buffer[(128, 128), \"float32\"],\n",
    "                C: T.Buffer[(128, 128), \"float32\"],):\n",
    "        T.func_attr({\"global_symbol\": \"mm_relu\", \"tir.noalias\": True})\n",
    "        # 使用的缓冲区\n",
    "        Y = T.alloc_buffer((128, 128), dtype=\"float32\")\n",
    "        for i, j, k in T.grid(128, 128, 128):\n",
    "            with T.block(\"Y\"):\n",
    "                # 128指明外面的循环迭代器需要128\n",
    "                vi = T.axis.spatial(128, i)\n",
    "                vj = T.axis.spatial(128, j)\n",
    "                vk = T.axis.reduce(128, k)\n",
    "                # 在初始化阶段，将Y置为0\n",
    "                with T.init():\n",
    "                    Y[vi, vj] = T.float32(0)\n",
    "                Y[vi, vj] = Y[vi, vj] + A[vi, vk] * B[vk, vj]\n",
    "        for i, j in T.grid(128, 128):\n",
    "            with T.block(\"C\"):\n",
    "                vi = T.axis.spatial(128, i)\n",
    "                vj = T.axis.spatial(128, j)\n",
    "                C[vi, vj] = T.max(Y[vi, vj], T.float32(0))"
   ]
  },
  {
   "cell_type": "markdown",
   "id": "2f5742b0",
   "metadata": {},
   "source": [
    "基本思想，使用`block`表示出可能的计算单元\n",
    "+ `spatial axis`称为**空间轴**，会直接出现在计算结果的某一个维度上\n",
    "+ `reduce axis`称为**规约轴**，不会直接出现在结果的某个维度上，但是为了得到结果需要遍历其\n",
    "为什么要声明`spatial axis`和`reduce axis`，为了**给之后的分析和优化提供更多的信息**，`block`是一个自洽的计算，表示需要做很么样的计算，以及循环、外部的数据以来等信息，为后续做优化做准备\n",
    "+ 这些附加信息也有助于我们进行机器学习编译分析，大部分时候在空间轴上做并行化，在规约轴上进行并行化将需要特定的策略"
   ]
  },
  {
   "cell_type": "markdown",
   "id": "9c7b2119",
   "metadata": {},
   "source": [
    "一些语法糖，可以直接将其与外部的迭代器绑定"
   ]
  },
  {
   "cell_type": "code",
   "execution_count": 11,
   "id": "fdef84e3",
   "metadata": {},
   "outputs": [],
   "source": [
    "@tvm.script.ir_module\n",
    "class MyModuleWithAxisRemapSugar:\n",
    "    @T.prim_func\n",
    "    def mm_relu(A: T.Buffer[(128, 128), \"float32\"],\n",
    "                B: T.Buffer[(128, 128), \"float32\"],\n",
    "                C: T.Buffer[(128, 128), \"float32\"]):\n",
    "        T.func_attr({\"global_symbol\": \"mm_relu\", \"tir.noalias\": True})\n",
    "        Y = T.alloc_buffer((128, 128), dtype=\"float32\")\n",
    "        for i, j, k in T.grid(128, 128, 128):\n",
    "            with T.block(\"Y\"):\n",
    "                vi, vj, vk = T.axis.remap(\"SSR\", [i, j, k])\n",
    "                with T.init():\n",
    "                    Y[vi, vj] = T.float32(0)\n",
    "                Y[vi, vj] = Y[vi, vj] + A[vi, vk] * B[vk, vj]\n",
    "        for i, j in T.grid(128, 128):\n",
    "            with T.block(\"C\"):\n",
    "                vi, vj = T.axis.remap(\"SS\", [i, j])\n",
    "                C[vi, vj] = T.max(Y[vi, vj], T.float32(0))"
   ]
  },
  {
   "cell_type": "code",
   "execution_count": null,
   "id": "e6ff12c2",
   "metadata": {},
   "outputs": [],
   "source": []
  }
 ],
 "metadata": {
  "kernelspec": {
   "display_name": "Python 3.9.13 ('mlc')",
   "language": "python",
   "name": "python3"
  },
  "language_info": {
   "codemirror_mode": {
    "name": "ipython",
    "version": 3
   },
   "file_extension": ".py",
   "mimetype": "text/x-python",
   "name": "python",
   "nbconvert_exporter": "python",
   "pygments_lexer": "ipython3",
   "version": "3.9.13"
  },
  "vscode": {
   "interpreter": {
    "hash": "ba081e9997e81855924de74792aadcd790df3c3d18fa78a445749b56473709c9"
   }
  }
 },
 "nbformat": 4,
 "nbformat_minor": 5
}
