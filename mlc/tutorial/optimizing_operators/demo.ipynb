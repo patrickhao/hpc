{
 "cells": [
  {
   "cell_type": "code",
   "execution_count": 1,
   "metadata": {},
   "outputs": [],
   "source": [
    "import logging\n",
    "import sys\n",
    "\n",
    "import numpy as np\n",
    "import tvm\n",
    "from tvm import te\n",
    "import tvm.testing\n",
    "\n",
    "from tvm import autotvm"
   ]
  },
  {
   "attachments": {},
   "cell_type": "markdown",
   "metadata": {},
   "source": [
    "标准矩阵乘法，通过TE表示"
   ]
  },
  {
   "cell_type": "code",
   "execution_count": 2,
   "metadata": {},
   "outputs": [],
   "source": [
    "def matmul_basic(N, L, M, dtype):\n",
    "    A = te.placeholder((N, L), name=\"A\", dtype=dtype)\n",
    "    B = te.placeholder((L, N), name=\"A\", dtype=dtype)\n",
    "\n",
    "    k = te.reduce_axis((0, L), name=\"k\")\n",
    "    C = te.compute((N, M), lambda i, j: te.sum(A[i, k] * B[k, j], axis=k), name=\"C\")\n",
    "    s = te.create_schedule(C.op)\n",
    "\n",
    "    # schedule\n",
    "    y, x = s[C].op.axis\n",
    "    k = s[C].op.reduce_axis[0]\n",
    "\n",
    "    # 这里将8作为tiling factor，但是8不一定是最优的参数\n",
    "    # 在autotvm中，能否定义可以调整的参数（tunable parameter）\n",
    "    yo, yi = s[C].split(y, 8)\n",
    "    xo, xi = s[C].split(x, 8)\n",
    "\n",
    "    s[C].reorder(yo, xo, k, yi, xi)\n",
    "\n",
    "    return s, [A, B, C]\n"
   ]
  },
  {
   "attachments": {},
   "cell_type": "markdown",
   "metadata": {},
   "source": [
    "下面是一个简单的模版，其中包含一些可以调节的参数"
   ]
  },
  {
   "cell_type": "code",
   "execution_count": 3,
   "metadata": {},
   "outputs": [],
   "source": [
    "# 将该函数标记为一个模版\n",
    "@autotvm.template(\"tutorial/matmul_v1\")\n",
    "def matmul_v1(N, L, M, dtype):\n",
    "    A = te.placeholder((N, L), name=\"A\", dtype=dtype)\n",
    "    B = te.placeholder((L, M), name=\"B\", dtype=dtype)\n",
    "\n",
    "    k = te.reduce_axis((0, L), name=\"k\")\n",
    "    C = te.compute((N, M), lambda i, j: te.sum(A[i, k] * B[k, j], axis=k), name=\"C\")\n",
    "    s = te.create_schedule(C.op)\n",
    "\n",
    "    # schedule\n",
    "    y, x = s[C].op.axis\n",
    "    k = s[C].op.reduce_axis[0]\n",
    "\n",
    "    # 2. get the config object\n",
    "    # cfg表示config对象，而非控制流图\n",
    "    cfg = autotvm.get_config()\n",
    "\n",
    "    # 3. define search space\n",
    "    # 两个搜索空间，名为tile_y和tile_x\n",
    "    cfg.define_knob(\"tile_y\", [1, 2, 4, 8, 16])\n",
    "    cfg.define_knob(\"tile_x\", [1, 2, 4, 8, 16])\n",
    "\n",
    "    # 4. schedule according to config\n",
    "    # 在构建的5*5的空间中进行调度\n",
    "    yo, yi = s[C].split(y, cfg[\"tile_y\"].val)\n",
    "    xo, xi = s[C].split(x, cfg[\"tile_x\"].val)\n",
    "\n",
    "    s[C].reorder(yo, xo, k, yi, xi)\n",
    "\n",
    "    return s, [A, B, C]"
   ]
  },
  {
   "attachments": {},
   "cell_type": "markdown",
   "metadata": {},
   "source": [
    "下面是一种更高级、更智能的定义搜索空间的方法"
   ]
  },
  {
   "cell_type": "code",
   "execution_count": 4,
   "metadata": {},
   "outputs": [],
   "source": [
    "@autotvm.template(\"tutorial/matmul\")\n",
    "def matmul(N, L, M, dtype):\n",
    "    A = te.placeholder((N, L), name=\"A\", dtype=dtype)\n",
    "    B = te.placeholder((L, M), name=\"B\", dtype=dtype)\n",
    "\n",
    "    k = te.reduce_axis((0, L), name=\"k\")\n",
    "    C = te.compute((N, M), lambda i, j: te.sum(A[i, k] * B[k, j], axis=k), name=\"C\")\n",
    "    s = te.create_schedule(C.op)\n",
    "\n",
    "    # schedule\n",
    "    y, x = s[C].op.axis\n",
    "    k = s[C].op.reduce_axis[0]\n",
    "\n",
    "    # 开始定义空间\n",
    "    cfg = autotvm.get_config()\n",
    "    # 枚举出所有可能\n",
    "    cfg.define_split(\"tile_y\", y, num_outputs=2)\n",
    "    cfg.define_split(\"tile_x\", x, num_outputs=2)\n",
    "\n",
    "    # 根据config进行调度\n",
    "    yo, yi = cfg[\"tile_y\"].apply(s, C, y)\n",
    "    xo, xi = cfg[\"tile_x\"].apply(s, C, x)\n",
    "\n",
    "    s[C].reorder(yo, xo, k, yi, xi)\n",
    "\n",
    "    return s, [A, B, C]"
   ]
  },
  {
   "attachments": {},
   "cell_type": "markdown",
   "metadata": {},
   "source": [
    "使用AutoTVM优化矩阵乘法\n",
    "\n",
    "根据上面编写的矩阵乘法模版，可对炒粉的schedule中的块的大小进行参数化，对上述模版定义的参数空间进行搜索，下面选择一个指导器对空间进行拆分"
   ]
  },
  {
   "attachments": {},
   "cell_type": "markdown",
   "metadata": {},
   "source": [
    "调优器可以使用如下策略进行搜索，根据空间大小的不同，可以使用不同的种类\n",
    "\n",
    "如果空间非常大，可以选择最后一种，例如CUDA GPU上的conv2d蒜子搜索空间大小达到10^9级别\n",
    "\n",
    "+ `tvm.autotvm.tuner.RandomTuner`：以随机顺序枚举空间\n",
    "+ `tvm.autotvm.tuner.GridSearchTuner`：以网格搜索顺序枚举空间\n",
    "+ `tvm.autotvm.tuner.GATuner`：使用遗传算法搜索空间\n",
    "+ `tvm.autotvm.tuner.XGBTuner`：用基于模型的方法训练一个 XGBoost 模型，来预测降级 IR 的速度，并根据预测值选择下一批配置"
   ]
  },
  {
   "attachments": {},
   "cell_type": "markdown",
   "metadata": {},
   "source": [
    "下面是调优过程，首先创建一个调优任务，然后检查初始的搜索空间"
   ]
  },
  {
   "cell_type": "code",
   "execution_count": 5,
   "metadata": {},
   "outputs": [
    {
     "name": "stdout",
     "output_type": "stream",
     "text": [
      "ConfigSpace (len=100, range_length=100, space_map=\n",
      "   0 tile_y: Split(policy=factors, product=512, num_outputs=2) len=10\n",
      "   1 tile_x: Split(policy=factors, product=512, num_outputs=2) len=10\n",
      ")\n"
     ]
    }
   ],
   "source": [
    "N, L, M = 512, 512, 512\n",
    "task = autotvm.task.create(\"tutorial/matmul\", args=(N, L, M, \"float32\"), target=\"llvm\")\n",
    "print(task.config_space)"
   ]
  },
  {
   "cell_type": "code",
   "execution_count": 6,
   "metadata": {},
   "outputs": [],
   "source": [
    "logging.getLogger(\"autotvm\").setLevel(logging.DEBUG)\n",
    "logging.getLogger(\"autotvm\").addHandler(logging.StreamHandler(sys.stdout))"
   ]
  },
  {
   "attachments": {},
   "cell_type": "markdown",
   "metadata": {},
   "source": [
    "下面来进行评估，评估有两个步骤，构建和运行，默认用所有CPU core来编译，然后依次进行评估，为了减少方差，对5次平局结果取平均值"
   ]
  },
  {
   "cell_type": "code",
   "execution_count": 7,
   "metadata": {},
   "outputs": [
    {
     "name": "stdout",
     "output_type": "stream",
     "text": [
      "waiting for device...\n",
      "device available\n",
      "Get devices for measurement successfully!\n",
      "No: 1\tGFLOPS: 8.10/8.10\tresult: MeasureResult(costs=(0.0331215282,), error_no=MeasureErrorNo.NO_ERROR, all_cost=0.7650084495544434, timestamp=1677583178.9302762)\t[('tile_y', [-1, 64]), ('tile_x', [-1, 8])],None,36\n",
      "No: 2\tGFLOPS: 15.03/15.03\tresult: MeasureResult(costs=(0.017860347,), error_no=MeasureErrorNo.NO_ERROR, all_cost=0.4784693717956543, timestamp=1677583179.4750073)\t[('tile_y', [-1, 512]), ('tile_x', [-1, 32])],None,59\n",
      "No: 3\tGFLOPS: 28.17/28.17\tresult: MeasureResult(costs=(0.009529478000000001,), error_no=MeasureErrorNo.NO_ERROR, all_cost=0.3636972904205322, timestamp=1677583180.1045558)\t[('tile_y', [-1, 2]), ('tile_x', [-1, 64])],None,61\n",
      "No: 4\tGFLOPS: 3.23/28.17\tresult: MeasureResult(costs=(0.0831133974,), error_no=MeasureErrorNo.NO_ERROR, all_cost=1.528329610824585, timestamp=1677583181.9062355)\t[('tile_y', [-1, 64]), ('tile_x', [-1, 4])],None,26\n",
      "No: 5\tGFLOPS: 9.35/28.17\tresult: MeasureResult(costs=(0.028709114799999998,), error_no=MeasureErrorNo.NO_ERROR, all_cost=0.6510922908782959, timestamp=1677583182.6117246)\t[('tile_y', [-1, 16]), ('tile_x', [-1, 8])],None,34\n",
      "No: 6\tGFLOPS: 31.15/31.15\tresult: MeasureResult(costs=(0.0086188378,), error_no=MeasureErrorNo.NO_ERROR, all_cost=0.3364081382751465, timestamp=1677583183.0012426)\t[('tile_y', [-1, 256]), ('tile_x', [-1, 64])],None,68\n",
      "No: 7\tGFLOPS: 3.14/31.15\tresult: MeasureResult(costs=(0.08562212859999999,), error_no=MeasureErrorNo.NO_ERROR, all_cost=1.567601203918457, timestamp=1677583184.843294)\t[('tile_y', [-1, 512]), ('tile_x', [-1, 4])],None,29\n",
      "No: 8\tGFLOPS: 7.06/31.15\tresult: MeasureResult(costs=(0.0380129364,), error_no=MeasureErrorNo.NO_ERROR, all_cost=0.8214867115020752, timestamp=1677583185.720232)\t[('tile_y', [-1, 128]), ('tile_x', [-1, 8])],None,37\n",
      "No: 9\tGFLOPS: 9.10/31.15\tresult: MeasureResult(costs=(0.029482506999999998,), error_no=MeasureErrorNo.NO_ERROR, all_cost=0.6871302127838135, timestamp=1677583186.6662266)\t[('tile_y', [-1, 64]), ('tile_x', [-1, 16])],None,46\n",
      "No: 10\tGFLOPS: 2.84/31.15\tresult: MeasureResult(costs=(0.0946814244,), error_no=MeasureErrorNo.NO_ERROR, all_cost=1.7196252346038818, timestamp=1677583188.6728725)\t[('tile_y', [-1, 32]), ('tile_x', [-1, 2])],None,15\n"
     ]
    }
   ],
   "source": [
    "measure_option = autotvm.measure_option(builder=\"local\", runner=autotvm.LocalRunner(number=5))\n",
    "\n",
    "# 用RandomTuner开始调优，日志记录到`matmul.log`文件中\n",
    "# 可用XGBTuner来替代\n",
    "tuner = autotvm.tuner.RandomTuner(task)\n",
    "tuner.tune(\n",
    "    n_trial=10,\n",
    "    measure_option=measure_option,\n",
    "    # 通过回调函数写入log\n",
    "    callbacks=[autotvm.callback.log_to_file(\"matmul.log\")],\n",
    ")\n"
   ]
  },
  {
   "attachments": {},
   "cell_type": "markdown",
   "metadata": {},
   "source": [
    "从日志文件中选择具有最佳性能的配置，并用相应的参数来编译schedule\n",
    "\n",
    "可直接在`autotvm.apply_history_best`上下文中调用`matmul`函数，它会用参数查询调度上下文，然后可用相同的参数获取最优配置"
   ]
  },
  {
   "cell_type": "code",
   "execution_count": 8,
   "metadata": {},
   "outputs": [
    {
     "name": "stdout",
     "output_type": "stream",
     "text": [
      "Finish loading 10 records\n"
     ]
    }
   ],
   "source": [
    "# 从日志文件中应用历史最佳\n",
    "with autotvm.apply_history_best(\"matmul.log\"):\n",
    "    with tvm.target.Target(\"llvm\"):\n",
    "        s, arg_bufs = matmul(N, L, M, \"float32\")\n",
    "        func = tvm.build(s, arg_bufs)\n",
    "\n",
    "# 验证正确性\n",
    "a_np = np.random.uniform(size=(N, L)).astype(np.float32)\n",
    "b_np = np.random.uniform(size=(L, M)).astype(np.float32)\n",
    "c_np = a_np.dot(b_np)\n",
    "\n",
    "c_tvm = tvm.nd.empty(c_np.shape)\n",
    "func(tvm.nd.array(a_np), tvm.nd.array(b_np), c_tvm)\n",
    "\n",
    "tvm.testing.assert_allclose(c_np, c_tvm.numpy(), rtol=1e-4)"
   ]
  }
 ],
 "metadata": {
  "kernelspec": {
   "display_name": "tvm-build",
   "language": "python",
   "name": "python3"
  },
  "language_info": {
   "codemirror_mode": {
    "name": "ipython",
    "version": 3
   },
   "file_extension": ".py",
   "mimetype": "text/x-python",
   "name": "python",
   "nbconvert_exporter": "python",
   "pygments_lexer": "ipython3",
   "version": "3.7.16"
  },
  "orig_nbformat": 4,
  "vscode": {
   "interpreter": {
    "hash": "4264a4b8722e447815a17498239a97b2ae0f6fe1871f2160dbac82f2e1fae45d"
   }
  }
 },
 "nbformat": 4,
 "nbformat_minor": 2
}
