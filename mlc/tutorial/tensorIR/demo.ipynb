{
 "cells": [
  {
   "attachments": {},
   "cell_type": "markdown",
   "metadata": {},
   "source": [
    "TensorIR 是深度学习领域的特定语言，主要有两个作用：\n",
    "\n",
    "+ 在各种硬件后端转换和优化程序。\n",
    "+ 自动`_tensorized_`程序优化的抽象"
   ]
  },
  {
   "cell_type": "code",
   "execution_count": 1,
   "metadata": {},
   "outputs": [],
   "source": [
    "import tvm\n",
    "from tvm.ir.module import IRModule\n",
    "from tvm.script import tir as T\n",
    "import numpy as np"
   ]
  },
  {
   "attachments": {},
   "cell_type": "markdown",
   "metadata": {},
   "source": [
    "IRModule是TVM IR的一种可往返于法，可通过编写TVMScript来创建\n",
    "\n",
    "与通过张量表达式创建计算表达式不同，TensorIR可以通过TVMScript（一种嵌入在Python AST中的语言）来进行编程"
   ]
  },
  {
   "cell_type": "code",
   "execution_count": 2,
   "metadata": {},
   "outputs": [
    {
     "name": "stdout",
     "output_type": "stream",
     "text": [
      "<class 'tvm.ir.module.IRModule'>\n",
      "# from tvm.script import ir as I\n",
      "# from tvm.script import tir as T\n",
      "\n",
      "@I.ir_module\n",
      "class Module:\n",
      "    @T.prim_func\n",
      "    def main(A: T.Buffer((8,), \"float32\"), B: T.Buffer((8,), \"float32\")):\n",
      "        T.func_attr({\"global_symbol\": \"main\", \"tir.noalias\": True})\n",
      "        # with T.block(\"root\"):\n",
      "        for i in range(8):\n",
      "            with T.block(\"B\"):\n",
      "                vi = T.axis.spatial(8, i)\n",
      "                T.reads(A[vi])\n",
      "                T.writes(B[vi])\n",
      "                B[vi] = A[vi] + T.float32(1)\n"
     ]
    }
   ],
   "source": [
    "@tvm.script.ir_module\n",
    "class MyModule:\n",
    "    @T.prim_func\n",
    "    def main(a: T.handle, b: T.handle):\n",
    "        # 通过T.handle进行数据交换，类似于内存指针\n",
    "        T.func_attr({\"global_symbol\": \"main\", \"tir.noalias\": True})\n",
    "        # 通过handle创建Buffer\n",
    "        A = T.match_buffer(a, (8,), dtype=\"float32\")\n",
    "        B = T.match_buffer(b, (8,), dtype=\"float32\")\n",
    "        for i in range(8):\n",
    "            # block是针对计算的抽象\n",
    "            with T.block(\"B\"):\n",
    "                # 定义一个空间（可并行）block迭代器，并且将它的值绑定成i \n",
    "                vi = T.axis.spatial(8, i)\n",
    "                B[vi] = A[vi] + 1.0\n",
    "\n",
    "ir_module = MyModule\n",
    "print(type(ir_module))\n",
    "print(ir_module.script())"
   ]
  },
  {
   "attachments": {},
   "cell_type": "markdown",
   "metadata": {},
   "source": [
    "还可以使用张亮表达式DSL编写简单的运算符，并将它们转换为IRMudule"
   ]
  },
  {
   "cell_type": "code",
   "execution_count": 3,
   "metadata": {},
   "outputs": [
    {
     "name": "stdout",
     "output_type": "stream",
     "text": [
      "# from tvm.script import ir as I\n",
      "# from tvm.script import tir as T\n",
      "\n",
      "@I.ir_module\n",
      "class Module:\n",
      "    @T.prim_func\n",
      "    def main(A: T.Buffer((8,), \"float32\"), B: T.Buffer((8,), \"float32\")):\n",
      "        T.func_attr({\"global_symbol\": \"main\", \"tir.noalias\": True})\n",
      "        # with T.block(\"root\"):\n",
      "        for i0 in range(8):\n",
      "            with T.block(\"B\"):\n",
      "                v_i0 = T.axis.spatial(8, i0)\n",
      "                T.reads(A[v_i0])\n",
      "                T.writes(B[v_i0])\n",
      "                B[v_i0] = A[v_i0] + T.float32(1)\n"
     ]
    }
   ],
   "source": [
    "from tvm import te\n",
    "\n",
    "A = te.placeholder((8,), dtype=\"float32\", name=\"A\")\n",
    "B = te.compute((8,), lambda *i: A(*i) + 1.0, name=\"B\")\n",
    "func = te.create_prim_func([A, B])\n",
    "ir_module_from_te = IRModule({\"main\": func})\n",
    "print(ir_module_from_te.script())"
   ]
  },
  {
   "attachments": {},
   "cell_type": "markdown",
   "metadata": {},
   "source": [
    "构建并运行IRModule"
   ]
  },
  {
   "cell_type": "code",
   "execution_count": 4,
   "metadata": {},
   "outputs": [
    {
     "name": "stdout",
     "output_type": "stream",
     "text": [
      "<class 'tvm.driver.build_module.OperatorModule'>\n"
     ]
    }
   ],
   "source": [
    "mod = tvm.build(ir_module, target=\"llvm\")\n",
    "print(type(mod))"
   ]
  },
  {
   "cell_type": "code",
   "execution_count": 5,
   "metadata": {},
   "outputs": [
    {
     "name": "stdout",
     "output_type": "stream",
     "text": [
      "[0. 1. 2. 3. 4. 5. 6. 7.]\n",
      "[1. 2. 3. 4. 5. 6. 7. 8.]\n"
     ]
    }
   ],
   "source": [
    "a = tvm.nd.array(np.arange(8).astype(\"float32\"))\n",
    "b = tvm.nd.array(np.zeros((8,)).astype(\"float32\"))\n",
    "mod(a, b)\n",
    "print(a)\n",
    "print(b)"
   ]
  },
  {
   "attachments": {},
   "cell_type": "markdown",
   "metadata": {},
   "source": [
    "IRModule是核心的数据结构，可以通过`Schedule`进行转换，schedule包含多个primitive方法来交互地转换程序，每个primitive都以特定方式对程序进行转换，从而优化性能"
   ]
  },
  {
   "cell_type": "code",
   "execution_count": 6,
   "metadata": {},
   "outputs": [
    {
     "name": "stdout",
     "output_type": "stream",
     "text": [
      "<class 'tvm.tir.schedule.schedule.Schedule'>\n"
     ]
    }
   ],
   "source": [
    "sch = tvm.tir.Schedule(ir_module)\n",
    "print(type(sch))"
   ]
  },
  {
   "attachments": {},
   "cell_type": "markdown",
   "metadata": {},
   "source": [
    "将嵌套循环展开成3个循环，并打印结果"
   ]
  },
  {
   "cell_type": "code",
   "execution_count": 7,
   "metadata": {},
   "outputs": [
    {
     "name": "stdout",
     "output_type": "stream",
     "text": [
      "# from tvm.script import ir as I\n",
      "# from tvm.script import tir as T\n",
      "\n",
      "@I.ir_module\n",
      "class Module:\n",
      "    @T.prim_func\n",
      "    def main(A: T.Buffer((8,), \"float32\"), B: T.Buffer((8,), \"float32\")):\n",
      "        T.func_attr({\"global_symbol\": \"main\", \"tir.noalias\": True})\n",
      "        # with T.block(\"root\"):\n",
      "        for i_0, i_1, i_2 in T.grid(2, 2, 2):\n",
      "            with T.block(\"B\"):\n",
      "                vi = T.axis.spatial(8, i_0 * 4 + i_1 * 2 + i_2)\n",
      "                T.reads(A[vi])\n",
      "                T.writes(B[vi])\n",
      "                B[vi] = A[vi] + T.float32(1)\n"
     ]
    }
   ],
   "source": [
    "# 通过名字获取block\n",
    "block_b = sch.get_block(\"B\")\n",
    "# 获取包围block的循环\n",
    "(i,) = sch.get_loops(block_b)\n",
    "# 展开嵌套循环\n",
    "i_0, i_1, i_2 = sch.split(i, factors=[2, 2, 2])\n",
    "print(sch.mod.script())"
   ]
  },
  {
   "attachments": {},
   "cell_type": "markdown",
   "metadata": {},
   "source": [
    "对循环重新排序，例如将循环i_2移到i_1之外"
   ]
  },
  {
   "cell_type": "code",
   "execution_count": 8,
   "metadata": {},
   "outputs": [
    {
     "name": "stdout",
     "output_type": "stream",
     "text": [
      "# from tvm.script import ir as I\n",
      "# from tvm.script import tir as T\n",
      "\n",
      "@I.ir_module\n",
      "class Module:\n",
      "    @T.prim_func\n",
      "    def main(A: T.Buffer((8,), \"float32\"), B: T.Buffer((8,), \"float32\")):\n",
      "        T.func_attr({\"global_symbol\": \"main\", \"tir.noalias\": True})\n",
      "        # with T.block(\"root\"):\n",
      "        for i_0, i_2, i_1 in T.grid(2, 2, 2):\n",
      "            with T.block(\"B\"):\n",
      "                vi = T.axis.spatial(8, i_0 * 4 + i_1 * 2 + i_2)\n",
      "                T.reads(A[vi])\n",
      "                T.writes(B[vi])\n",
      "                B[vi] = A[vi] + T.float32(1)\n"
     ]
    }
   ],
   "source": [
    "sch.reorder(i_0, i_2, i_1)\n",
    "print(sch.mod.script())"
   ]
  },
  {
   "attachments": {},
   "cell_type": "markdown",
   "metadata": {},
   "source": [
    "转换为GPU程序，用原语进行增量转换\n",
    "\n",
    "绑定线程后用cuda后段来构建IRModule"
   ]
  },
  {
   "cell_type": "code",
   "execution_count": 9,
   "metadata": {},
   "outputs": [
    {
     "name": "stdout",
     "output_type": "stream",
     "text": [
      "# from tvm.script import ir as I\n",
      "# from tvm.script import tir as T\n",
      "\n",
      "@I.ir_module\n",
      "class Module:\n",
      "    @T.prim_func\n",
      "    def main(A: T.Buffer((8,), \"float32\"), B: T.Buffer((8,), \"float32\")):\n",
      "        T.func_attr({\"global_symbol\": \"main\", \"tir.noalias\": True})\n",
      "        # with T.block(\"root\"):\n",
      "        for i_0 in T.thread_binding(2, thread=\"blockIdx.x\"):\n",
      "            for i_2 in T.thread_binding(2, thread=\"threadIdx.x\"):\n",
      "                for i_1 in range(2):\n",
      "                    with T.block(\"B\"):\n",
      "                        vi = T.axis.spatial(8, i_0 * 4 + i_1 * 2 + i_2)\n",
      "                        T.reads(A[vi])\n",
      "                        T.writes(B[vi])\n",
      "                        B[vi] = A[vi] + T.float32(1)\n"
     ]
    }
   ],
   "source": [
    "sch.bind(i_0, \"blockIdx.x\")\n",
    "sch.bind(i_2, \"threadIdx.x\")\n",
    "print(sch.mod.script())"
   ]
  }
 ],
 "metadata": {
  "kernelspec": {
   "display_name": "tvm-build",
   "language": "python",
   "name": "python3"
  },
  "language_info": {
   "codemirror_mode": {
    "name": "ipython",
    "version": 3
   },
   "file_extension": ".py",
   "mimetype": "text/x-python",
   "name": "python",
   "nbconvert_exporter": "python",
   "pygments_lexer": "ipython3",
   "version": "3.7.16"
  },
  "orig_nbformat": 4,
  "vscode": {
   "interpreter": {
    "hash": "4264a4b8722e447815a17498239a97b2ae0f6fe1871f2160dbac82f2e1fae45d"
   }
  }
 },
 "nbformat": 4,
 "nbformat_minor": 2
}
